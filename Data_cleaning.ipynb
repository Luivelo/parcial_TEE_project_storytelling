{
 "cells": [
  {
   "cell_type": "markdown",
   "metadata": {},
   "source": [
    "### **LIMPIANDO DATA PARA SU POSTERIOR ANÁLISIS**"
   ]
  },
  {
   "cell_type": "code",
   "execution_count": 67,
   "metadata": {},
   "outputs": [],
   "source": [
    "import numpy as np\n",
    "import pandas as pd\n",
    "import matplotlib.pyplot as plt\n",
    "import itertools\n",
    "from decimal import Decimal\n",
    "import warnings\n",
    "warnings.filterwarnings('ignore')\n",
    "import glob\n",
    "import os"
   ]
  },
  {
   "cell_type": "code",
   "execution_count": 68,
   "metadata": {},
   "outputs": [],
   "source": [
    "# loading data from all files in the folder separately\n",
    "folder_path = 'C:\\\\Users\\\\USER\\\\Desktop\\\\Parcial_TEE\\\\parcial_TEE_project_storytelling\\\\data'\n",
    "file_paths = glob.glob(os.path.join(folder_path, '*.csv'))\n",
    "\n",
    "data = {}\n",
    "for file_path in file_paths:\n",
    "    data[os.path.basename(file_path)] = pd.read_csv(file_path, sep=';')"
   ]
  },
  {
   "cell_type": "code",
   "execution_count": 69,
   "metadata": {},
   "outputs": [
    {
     "data": {
      "text/plain": [
       "Compañia             0\n",
       "Linea de producto    0\n",
       "Año                  0\n",
       "Ingresos soles       0\n",
       "dtype: int64"
      ]
     },
     "execution_count": 69,
     "metadata": {},
     "output_type": "execute_result"
    }
   ],
   "source": [
    "# renaming columns for ingresos data\n",
    "data['ingresos.csv'].rename(columns={'anho': 'Año','compania':'Compañia','linea_de_producto':'Linea de producto','ingresos_soles':'Ingresos soles'}, inplace=True)\n",
    "data['ingresos.csv'].isnull().sum()"
   ]
  },
  {
   "cell_type": "code",
   "execution_count": 70,
   "metadata": {},
   "outputs": [
    {
     "name": "stdout",
     "output_type": "stream",
     "text": [
      "Compañia ['Claro' 'Otros' 'DirectTV' 'Entel' 'Movistar' 'Bitel']\n",
      "Linea de producto ['publico' 'larga_distancia' 'otros' 'linea_fija' 'cabletv' 'data'\n",
      " 'internet' 'interconexion' 'equipos' 'movil']\n",
      "Año [2013 2014 2015 2016 2017 2018 2019 2020 2021]\n"
     ]
    }
   ],
   "source": [
    "for i in data['ingresos.csv'].columns:\n",
    "    if i != 'Ingresos soles':\n",
    "        print(i, data['ingresos.csv'][i].unique())"
   ]
  },
  {
   "cell_type": "code",
   "execution_count": 71,
   "metadata": {},
   "outputs": [
    {
     "data": {
      "text/plain": [
       "Compañia            0\n",
       "Tipo de plan        0\n",
       "Mes                 0\n",
       "Año                 0\n",
       "Numero de lineas    0\n",
       "dtype: int64"
      ]
     },
     "execution_count": 71,
     "metadata": {},
     "output_type": "execute_result"
    }
   ],
   "source": [
    "# renaming columns for moviles data\n",
    "data['moviles.csv'].rename(columns={'año': 'Año','compania':'Compañia','tipo_de_plan':'Tipo de plan','mes':'Mes','numero_de_lineas':'Numero de lineas'}, inplace=True)\n",
    "data['moviles.csv'].isnull().sum()"
   ]
  },
  {
   "cell_type": "code",
   "execution_count": 72,
   "metadata": {},
   "outputs": [
    {
     "data": {
      "text/html": [
       "<div>\n",
       "<style scoped>\n",
       "    .dataframe tbody tr th:only-of-type {\n",
       "        vertical-align: middle;\n",
       "    }\n",
       "\n",
       "    .dataframe tbody tr th {\n",
       "        vertical-align: top;\n",
       "    }\n",
       "\n",
       "    .dataframe thead th {\n",
       "        text-align: right;\n",
       "    }\n",
       "</style>\n",
       "<table border=\"1\" class=\"dataframe\">\n",
       "  <thead>\n",
       "    <tr style=\"text-align: right;\">\n",
       "      <th></th>\n",
       "      <th>Año</th>\n",
       "      <th>Compañia</th>\n",
       "      <th>Tipo de plan</th>\n",
       "      <th>Mes</th>\n",
       "      <th>Numero de lineas</th>\n",
       "    </tr>\n",
       "  </thead>\n",
       "  <tbody>\n",
       "    <tr>\n",
       "      <th>0</th>\n",
       "      <td>2013</td>\n",
       "      <td>Claro</td>\n",
       "      <td>control</td>\n",
       "      <td>1</td>\n",
       "      <td>10994</td>\n",
       "    </tr>\n",
       "    <tr>\n",
       "      <th>1</th>\n",
       "      <td>2013</td>\n",
       "      <td>Claro</td>\n",
       "      <td>control</td>\n",
       "      <td>2</td>\n",
       "      <td>10685</td>\n",
       "    </tr>\n",
       "    <tr>\n",
       "      <th>2</th>\n",
       "      <td>2013</td>\n",
       "      <td>Claro</td>\n",
       "      <td>control</td>\n",
       "      <td>3</td>\n",
       "      <td>10376</td>\n",
       "    </tr>\n",
       "    <tr>\n",
       "      <th>3</th>\n",
       "      <td>2013</td>\n",
       "      <td>Claro</td>\n",
       "      <td>control</td>\n",
       "      <td>4</td>\n",
       "      <td>10075</td>\n",
       "    </tr>\n",
       "    <tr>\n",
       "      <th>4</th>\n",
       "      <td>2013</td>\n",
       "      <td>Claro</td>\n",
       "      <td>control</td>\n",
       "      <td>5</td>\n",
       "      <td>9788</td>\n",
       "    </tr>\n",
       "    <tr>\n",
       "      <th>...</th>\n",
       "      <td>...</td>\n",
       "      <td>...</td>\n",
       "      <td>...</td>\n",
       "      <td>...</td>\n",
       "      <td>...</td>\n",
       "    </tr>\n",
       "    <tr>\n",
       "      <th>1381</th>\n",
       "      <td>2022</td>\n",
       "      <td>Others</td>\n",
       "      <td>prepago</td>\n",
       "      <td>2</td>\n",
       "      <td>178156</td>\n",
       "    </tr>\n",
       "    <tr>\n",
       "      <th>1382</th>\n",
       "      <td>2022</td>\n",
       "      <td>Others</td>\n",
       "      <td>prepago</td>\n",
       "      <td>3</td>\n",
       "      <td>176222</td>\n",
       "    </tr>\n",
       "    <tr>\n",
       "      <th>1383</th>\n",
       "      <td>2022</td>\n",
       "      <td>Others</td>\n",
       "      <td>prepago</td>\n",
       "      <td>4</td>\n",
       "      <td>177029</td>\n",
       "    </tr>\n",
       "    <tr>\n",
       "      <th>1384</th>\n",
       "      <td>2022</td>\n",
       "      <td>Others</td>\n",
       "      <td>prepago</td>\n",
       "      <td>5</td>\n",
       "      <td>177565</td>\n",
       "    </tr>\n",
       "    <tr>\n",
       "      <th>1385</th>\n",
       "      <td>2022</td>\n",
       "      <td>Others</td>\n",
       "      <td>prepago</td>\n",
       "      <td>6</td>\n",
       "      <td>178895</td>\n",
       "    </tr>\n",
       "  </tbody>\n",
       "</table>\n",
       "<p>1386 rows × 5 columns</p>\n",
       "</div>"
      ],
      "text/plain": [
       "       Año Compañia Tipo de plan  Mes  Numero de lineas\n",
       "0     2013    Claro      control    1             10994\n",
       "1     2013    Claro      control    2             10685\n",
       "2     2013    Claro      control    3             10376\n",
       "3     2013    Claro      control    4             10075\n",
       "4     2013    Claro      control    5              9788\n",
       "...    ...      ...          ...  ...               ...\n",
       "1381  2022   Others      prepago    2            178156\n",
       "1382  2022   Others      prepago    3            176222\n",
       "1383  2022   Others      prepago    4            177029\n",
       "1384  2022   Others      prepago    5            177565\n",
       "1385  2022   Others      prepago    6            178895\n",
       "\n",
       "[1386 rows x 5 columns]"
      ]
     },
     "execution_count": 72,
     "metadata": {},
     "output_type": "execute_result"
    }
   ],
   "source": [
    "#grouping ingresos data by year, company and product line\n",
    "data_moviles = data['moviles.csv'].groupby(['Año','Compañia','Tipo de plan','Mes']).sum().reset_index()\n",
    "data_moviles"
   ]
  },
  {
   "cell_type": "code",
   "execution_count": 73,
   "metadata": {},
   "outputs": [
    {
     "name": "stdout",
     "output_type": "stream",
     "text": [
      "Compañia ['Claro' 'Entel' 'Movistar' 'Bitel' 'Others']\n",
      "Tipo de plan ['control' 'postpago' 'prepago']\n",
      "Mes [ 1  2  3  4  5  6  7  8  9 10 11 12]\n",
      "Año [2013 2014 2015 2016 2017 2018 2019 2020 2021 2022]\n"
     ]
    }
   ],
   "source": [
    "for i in data['moviles.csv'].columns:\n",
    "    if i != 'Numero de lineas': \n",
    "        print(i, data['moviles.csv'][i].unique())"
   ]
  }
 ],
 "metadata": {
  "kernelspec": {
   "display_name": "Python 3",
   "language": "python",
   "name": "python3"
  },
  "language_info": {
   "codemirror_mode": {
    "name": "ipython",
    "version": 3
   },
   "file_extension": ".py",
   "mimetype": "text/x-python",
   "name": "python",
   "nbconvert_exporter": "python",
   "pygments_lexer": "ipython3",
   "version": "3.10.6"
  }
 },
 "nbformat": 4,
 "nbformat_minor": 2
}
