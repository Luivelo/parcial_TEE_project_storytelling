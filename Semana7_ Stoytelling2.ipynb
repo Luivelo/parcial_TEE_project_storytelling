{
 "cells": [
  {
   "cell_type": "markdown",
   "id": "2f28321b",
   "metadata": {},
   "source": [
    "# Semana 7: Storytelling 2.\n",
    "**Tópicos de Economía de la Empresa - E2TEE9**"
   ]
  },
  {
   "cell_type": "markdown",
   "id": "eeb2cc3e",
   "metadata": {},
   "source": [
    "Recuerden que Lo más importante: **Verlo desde el punto de vista del usuario**"
   ]
  },
  {
   "cell_type": "markdown",
   "id": "9df92fe2",
   "metadata": {},
   "source": [
    " Retomando el caso de la macroeconomía peruana...Vamos a convertir el notebook de la sesión 6 en una presentación similar a lo que tendrán que presentar para el parcial. "
   ]
  },
  {
   "cell_type": "markdown",
   "id": "90bd248b",
   "metadata": {},
   "source": [
    "## ¿Cómo convertir un notebook en una presentación?"
   ]
  },
  {
   "cell_type": "markdown",
   "id": "69bcdd66",
   "metadata": {},
   "source": [
    "Este método funciona hasta la versión 6.5 de Jupyter Notebook. "
   ]
  },
  {
   "cell_type": "markdown",
   "id": "58db34f4",
   "metadata": {},
   "source": [
    "en tu entorno Jupyter y convertir tu cuaderno Jupyter en diapositivas Reveal.js, necesitas tener lo siguiente:\n",
    "\n",
    "- nbconvert: Por lo general, se instala por defecto cuando instalas Jupyter. Si por alguna razón no está presente, puedes instalarlo usando pip:"
   ]
  },
  {
   "cell_type": "markdown",
   "id": "03905d97",
   "metadata": {},
   "source": [
    "**Primero** chequeen que esté instalado en el ambiente de python donde están trabajando con el comando \n",
    "`conda list` o `pip show nbcnovert` corrido desde el powershell."
   ]
  },
  {
   "cell_type": "code",
   "execution_count": 1,
   "id": "141d1235",
   "metadata": {},
   "outputs": [],
   "source": [
    "## Si no está instalado, ejecuten el siguiente código\n",
    "## pip install nbconvert"
   ]
  },
  {
   "cell_type": "markdown",
   "id": "647e26db",
   "metadata": {},
   "source": [
    "Existen formatos adicionales: \n",
    "- pandoc: nbconvert depende de pandoc para convertir cuadernos a varios formatos, incluidas las diapositivas. Dependiendo de cómo instalaste Jupyter y de tu sistema operativo, es posible que ya lo tengas. Si no, necesitas instalar pandoc. El método de instalación varía según tu sistema operativo. En la mayoría de los sistemas, puedes descargarlo directamente desde el sitio web oficial de Pandoc.\n",
    "\n",
    "- TeX (Opcional): Si quieres convertir cuadernos a formato PDF, también necesitarías una distribución TeX. Sin embargo, para convertir a diapositivas, como en tu comando, TeX no es necesario.\n",
    "\n",
    "- Reveal.js: Aunque nbconvert generará las diapositivas, para verlas con todas las transiciones y características necesitas Reveal.js. Afortunadamente, cuando conviertes a diapositivas usando el comando anterior, nbconvert generalmente incorpora las partes necesarias de Reveal.js en la salida, por lo que no necesitas instalar o enlazar Reveal.js manualmente. Sin embargo, si planeas personalizar o alojar tus diapositivas de manera más extensa, es posible que desees obtener un entendimiento más profundo de Reveal.js."
   ]
  },
  {
   "cell_type": "markdown",
   "id": "6266d9b4",
   "metadata": {},
   "source": [
    "Para fines del examen parcial vamos a utilizar nbconvert. "
   ]
  },
  {
   "cell_type": "markdown",
   "id": "7f27ec03",
   "metadata": {},
   "source": [
    "### Paso para convertir un notebook en una presentación"
   ]
  },
  {
   "cell_type": "markdown",
   "id": "deecba2a",
   "metadata": {},
   "source": [
    "1. Crear una copia del notebook y cambiar de nombre. Esto da flexibilidad para borrar celdas innecesarias para la presentación, pero sin perder el trabajo analítico. Le he llamado Macroperu.\n",
    "2. Para crear slides, ir al menu “View” menu, seleccionar “Cell Toolbar” y luego “Slideshow”. Esto añadirá el menú dropdown “Slide Type” a cada celda del notebook. \n",
    "3. Seleccionar las celdas necesarias. Añadir texto después de cada gráfico. \n",
    "4. Correr el código que transforma el código en un Jupyter Notebook"
   ]
  },
  {
   "cell_type": "code",
   "execution_count": 3,
   "id": "01e8d67b",
   "metadata": {},
   "outputs": [
    {
     "name": "stderr",
     "output_type": "stream",
     "text": [
      "[NbConvertApp] Converting notebook Macroperu.ipynb to slides\n",
      "[NbConvertApp] Writing 1014429 bytes to Macroperu.slides.html\n"
     ]
    }
   ],
   "source": [
    "!jupyter nbconvert Macroperu.ipynb --to slides --no-input --no-prompt"
   ]
  },
  {
   "cell_type": "markdown",
   "id": "6be94df6",
   "metadata": {},
   "source": [
    "**Aquí hay un desglose del comando:**\n",
    "\n",
    "!jupyter nbconvert: Esto inicia la herramienta nbconvert, que se usa para convertir Jupyter Notebooks en varios formatos.\n",
    "\n",
    "Macroperu.ipynb: Este es el nombre del cuaderno que desea convertir.\n",
    "\n",
    "--to slides: Esta opción especifica el formato de salida, que en este caso es una presentación de diapositivas.\n",
    "\n",
    "--no-input: Esta opción excluirá las celdas de entrada (código) del cuaderno convertido, por lo que solo la salida (resultados) de las celdas será visible en las diapositivas.\n",
    "\n",
    "--no-prompt: Esta opción eliminará los indicadores (como In[1]: y Out[1]:) de las diapositivas."
   ]
  },
  {
   "cell_type": "markdown",
   "id": "4830f161",
   "metadata": {},
   "source": [
    "**Para que el comando funcione correctamente:**\n",
    "\n",
    "- Asegúrate de ejecutar el comando en el mismo directorio que el cuaderno .ipynb.\n",
    "- Asegúrate de tener las dependencias requeridas instaladas. Para las diapositivas, también es posible que necesites tener rise o reveal.js dependiendo de cómo pretendas presentar o ver las diapositivas.\n",
    "- Después de ejecutar el comando, debería crear un archivo .slides.html con el mismo nombre base que tu cuaderno. Puedes abrir este archivo en un navegador para ver tu presentación de diapositivas."
   ]
  },
  {
   "cell_type": "markdown",
   "id": "ff96fc47",
   "metadata": {},
   "source": [
    "## Ejercicio en clase: Ejecución de la presentación. "
   ]
  },
  {
   "cell_type": "markdown",
   "id": "3486c8a4",
   "metadata": {},
   "source": [
    "## La base de datos de Punku 2021 que utilizaremos en el parcial "
   ]
  },
  {
   "cell_type": "markdown",
   "id": "d618d15f",
   "metadata": {},
   "source": [
    "Utilizaremos los datos públicos de OSIPTEL (Agencia Reguladora de Telecomunicaciones del Perú) para el análisis. Las bases de datos se pueden descargar de https://punku.osiptel.gob.pe/. Los datasets que utilizaremos en clase han sido ordenados previamente. "
   ]
  },
  {
   "cell_type": "markdown",
   "id": "ee4ac0e1",
   "metadata": {},
   "source": [
    "### Competidores"
   ]
  },
  {
   "cell_type": "markdown",
   "id": "ac1e4edc",
   "metadata": {},
   "source": [
    "- Claro: Empresa latinoamericana. 15 años en el mercado. Ofrece servicios móviles, internet, cable, línea fija y servicios de datos.\n",
    "- Movistar: Empresa europea. 25 años en el mercado. Empresa dominante. Ofrece servicios móviles, internet, cable, línea fija y servicios de datos.\n",
    "- Entel: Empresa latinoamericana. 10 años en el mercado. Ofrece servicios móviles, internet y servicios de datos.\n",
    "- Bitelel: Empresa asiática. 8 años en el mercado. Ofrece servicios móviles y de internet.\n",
    "- DirectTV: Empresa estadounidense. Solo ofrece servicios de TV.\n",
    "- Otros: varias empresas más pequeñas que ofrecen principalmente servicios móviles y de internet."
   ]
  },
  {
   "cell_type": "markdown",
   "id": "c237b874",
   "metadata": {},
   "source": [
    "### Base de datos "
   ]
  },
  {
   "cell_type": "code",
   "execution_count": 1,
   "id": "489e1415",
   "metadata": {},
   "outputs": [],
   "source": [
    "import numpy as np\n",
    "import pandas as pd\n",
    "import matplotlib.pyplot as plt\n",
    "%matplotlib inline"
   ]
  },
  {
   "cell_type": "markdown",
   "id": "815139c3",
   "metadata": {},
   "source": [
    "#### Ingresos"
   ]
  },
  {
   "cell_type": "markdown",
   "id": "73755aab",
   "metadata": {},
   "source": [
    "Por ingresos por compañía, lineas de negocio,año "
   ]
  },
  {
   "cell_type": "code",
   "execution_count": 2,
   "id": "afa10731",
   "metadata": {},
   "outputs": [
    {
     "data": {
      "text/html": [
       "<div>\n",
       "<style scoped>\n",
       "    .dataframe tbody tr th:only-of-type {\n",
       "        vertical-align: middle;\n",
       "    }\n",
       "\n",
       "    .dataframe tbody tr th {\n",
       "        vertical-align: top;\n",
       "    }\n",
       "\n",
       "    .dataframe thead th {\n",
       "        text-align: right;\n",
       "    }\n",
       "</style>\n",
       "<table border=\"1\" class=\"dataframe\">\n",
       "  <thead>\n",
       "    <tr style=\"text-align: right;\">\n",
       "      <th></th>\n",
       "      <th>compania</th>\n",
       "      <th>linea_de_producto</th>\n",
       "      <th>anho</th>\n",
       "      <th>ingresos_soles</th>\n",
       "    </tr>\n",
       "  </thead>\n",
       "  <tbody>\n",
       "    <tr>\n",
       "      <th>0</th>\n",
       "      <td>Claro</td>\n",
       "      <td>publico</td>\n",
       "      <td>2013</td>\n",
       "      <td>10690680</td>\n",
       "    </tr>\n",
       "    <tr>\n",
       "      <th>1</th>\n",
       "      <td>Claro</td>\n",
       "      <td>larga_distancia</td>\n",
       "      <td>2013</td>\n",
       "      <td>12285877</td>\n",
       "    </tr>\n",
       "    <tr>\n",
       "      <th>2</th>\n",
       "      <td>Claro</td>\n",
       "      <td>otros</td>\n",
       "      <td>2013</td>\n",
       "      <td>85336817</td>\n",
       "    </tr>\n",
       "    <tr>\n",
       "      <th>3</th>\n",
       "      <td>Claro</td>\n",
       "      <td>linea_fija</td>\n",
       "      <td>2013</td>\n",
       "      <td>107044890</td>\n",
       "    </tr>\n",
       "    <tr>\n",
       "      <th>4</th>\n",
       "      <td>Claro</td>\n",
       "      <td>cabletv</td>\n",
       "      <td>2013</td>\n",
       "      <td>119579263</td>\n",
       "    </tr>\n",
       "  </tbody>\n",
       "</table>\n",
       "</div>"
      ],
      "text/plain": [
       "  compania linea_de_producto  anho  ingresos_soles\n",
       "0    Claro           publico  2013        10690680\n",
       "1    Claro   larga_distancia  2013        12285877\n",
       "2    Claro             otros  2013        85336817\n",
       "3    Claro        linea_fija  2013       107044890\n",
       "4    Claro           cabletv  2013       119579263"
      ]
     },
     "execution_count": 2,
     "metadata": {},
     "output_type": "execute_result"
    }
   ],
   "source": [
    "df1=pd.read_csv('ingresos.csv', sep=\";\")\n",
    "df1.head()"
   ]
  },
  {
   "cell_type": "code",
   "execution_count": 3,
   "id": "c971267e",
   "metadata": {},
   "outputs": [
    {
     "name": "stdout",
     "output_type": "stream",
     "text": [
      "<class 'pandas.core.frame.DataFrame'>\n",
      "RangeIndex: 1949 entries, 0 to 1948\n",
      "Data columns (total 4 columns):\n",
      " #   Column             Non-Null Count  Dtype \n",
      "---  ------             --------------  ----- \n",
      " 0   compania           1949 non-null   object\n",
      " 1   linea_de_producto  1949 non-null   object\n",
      " 2   anho               1949 non-null   int64 \n",
      " 3   ingresos_soles     1949 non-null   int64 \n",
      "dtypes: int64(2), object(2)\n",
      "memory usage: 61.0+ KB\n"
     ]
    }
   ],
   "source": [
    "df1.info()"
   ]
  },
  {
   "cell_type": "code",
   "execution_count": 5,
   "id": "ce7ca25c",
   "metadata": {},
   "outputs": [
    {
     "data": {
      "text/plain": [
       "array(['publico', 'larga_distancia', 'otros', 'linea_fija', 'cabletv',\n",
       "       'data', 'internet', 'interconexion', 'equipos', 'movil'],\n",
       "      dtype=object)"
      ]
     },
     "execution_count": 5,
     "metadata": {},
     "output_type": "execute_result"
    }
   ],
   "source": [
    "df1.linea_de_producto.unique()"
   ]
  },
  {
   "cell_type": "code",
   "execution_count": 6,
   "id": "40dc97b9",
   "metadata": {},
   "outputs": [
    {
     "data": {
      "text/plain": [
       "array(['Claro', 'Otros', 'DirectTV', 'Entel', 'Movistar', 'Bitel'],\n",
       "      dtype=object)"
      ]
     },
     "execution_count": 6,
     "metadata": {},
     "output_type": "execute_result"
    }
   ],
   "source": [
    "df1.compania.unique()"
   ]
  },
  {
   "cell_type": "code",
   "execution_count": 7,
   "id": "241913f4",
   "metadata": {},
   "outputs": [
    {
     "data": {
      "text/plain": [
       "array([2013, 2014, 2015, 2016, 2017, 2018, 2019, 2020, 2021], dtype=int64)"
      ]
     },
     "execution_count": 7,
     "metadata": {},
     "output_type": "execute_result"
    }
   ],
   "source": [
    "df1.anho.unique()"
   ]
  },
  {
   "cell_type": "markdown",
   "id": "95e6b6ea",
   "metadata": {},
   "source": [
    "#### Móviles"
   ]
  },
  {
   "cell_type": "markdown",
   "id": "9f238c81",
   "metadata": {},
   "source": [
    "Este dataset presenta el numero de líneas activas por tipos de contratos (planes): control, prepago, postpago para cada mes, de cada año, de cada empresa. "
   ]
  },
  {
   "cell_type": "code",
   "execution_count": 4,
   "id": "765a863c",
   "metadata": {},
   "outputs": [
    {
     "data": {
      "text/html": [
       "<div>\n",
       "<style scoped>\n",
       "    .dataframe tbody tr th:only-of-type {\n",
       "        vertical-align: middle;\n",
       "    }\n",
       "\n",
       "    .dataframe tbody tr th {\n",
       "        vertical-align: top;\n",
       "    }\n",
       "\n",
       "    .dataframe thead th {\n",
       "        text-align: right;\n",
       "    }\n",
       "</style>\n",
       "<table border=\"1\" class=\"dataframe\">\n",
       "  <thead>\n",
       "    <tr style=\"text-align: right;\">\n",
       "      <th></th>\n",
       "      <th>compania</th>\n",
       "      <th>tipo_de_plan</th>\n",
       "      <th>mes</th>\n",
       "      <th>año</th>\n",
       "      <th>numero_de_lineas</th>\n",
       "    </tr>\n",
       "  </thead>\n",
       "  <tbody>\n",
       "    <tr>\n",
       "      <th>0</th>\n",
       "      <td>Claro</td>\n",
       "      <td>control</td>\n",
       "      <td>1</td>\n",
       "      <td>2013</td>\n",
       "      <td>6</td>\n",
       "    </tr>\n",
       "    <tr>\n",
       "      <th>1</th>\n",
       "      <td>Claro</td>\n",
       "      <td>control</td>\n",
       "      <td>1</td>\n",
       "      <td>2013</td>\n",
       "      <td>8</td>\n",
       "    </tr>\n",
       "    <tr>\n",
       "      <th>2</th>\n",
       "      <td>Claro</td>\n",
       "      <td>control</td>\n",
       "      <td>1</td>\n",
       "      <td>2013</td>\n",
       "      <td>9</td>\n",
       "    </tr>\n",
       "    <tr>\n",
       "      <th>3</th>\n",
       "      <td>Claro</td>\n",
       "      <td>control</td>\n",
       "      <td>1</td>\n",
       "      <td>2013</td>\n",
       "      <td>11</td>\n",
       "    </tr>\n",
       "    <tr>\n",
       "      <th>4</th>\n",
       "      <td>Claro</td>\n",
       "      <td>control</td>\n",
       "      <td>1</td>\n",
       "      <td>2013</td>\n",
       "      <td>15</td>\n",
       "    </tr>\n",
       "  </tbody>\n",
       "</table>\n",
       "</div>"
      ],
      "text/plain": [
       "  compania tipo_de_plan  mes   año  numero_de_lineas\n",
       "0    Claro      control    1  2013                 6\n",
       "1    Claro      control    1  2013                 8\n",
       "2    Claro      control    1  2013                 9\n",
       "3    Claro      control    1  2013                11\n",
       "4    Claro      control    1  2013                15"
      ]
     },
     "execution_count": 4,
     "metadata": {},
     "output_type": "execute_result"
    }
   ],
   "source": [
    "df2=pd.read_csv('moviles.csv', sep=\";\")\n",
    "df2.head()"
   ]
  },
  {
   "cell_type": "code",
   "execution_count": 8,
   "id": "7395c1f4",
   "metadata": {},
   "outputs": [
    {
     "name": "stdout",
     "output_type": "stream",
     "text": [
      "<class 'pandas.core.frame.DataFrame'>\n",
      "RangeIndex: 33857 entries, 0 to 33856\n",
      "Data columns (total 5 columns):\n",
      " #   Column            Non-Null Count  Dtype \n",
      "---  ------            --------------  ----- \n",
      " 0   compania          33857 non-null  object\n",
      " 1   tipo_de_plan      33857 non-null  object\n",
      " 2   mes               33857 non-null  int64 \n",
      " 3   año               33857 non-null  int64 \n",
      " 4   numero_de_lineas  33857 non-null  int64 \n",
      "dtypes: int64(3), object(2)\n",
      "memory usage: 1.3+ MB\n"
     ]
    }
   ],
   "source": [
    "df2.info()"
   ]
  },
  {
   "cell_type": "code",
   "execution_count": 9,
   "id": "4760495d",
   "metadata": {},
   "outputs": [
    {
     "data": {
      "text/plain": [
       "array(['Claro', 'Entel', 'Movistar', 'Bitel', 'Others'], dtype=object)"
      ]
     },
     "execution_count": 9,
     "metadata": {},
     "output_type": "execute_result"
    }
   ],
   "source": [
    "df2.compania.unique()"
   ]
  },
  {
   "cell_type": "code",
   "execution_count": 10,
   "id": "e7d20a25",
   "metadata": {},
   "outputs": [
    {
     "data": {
      "text/plain": [
       "array(['control', 'postpago', 'prepago'], dtype=object)"
      ]
     },
     "execution_count": 10,
     "metadata": {},
     "output_type": "execute_result"
    }
   ],
   "source": [
    "df2.tipo_de_plan.unique()"
   ]
  },
  {
   "cell_type": "code",
   "execution_count": 11,
   "id": "42025111",
   "metadata": {},
   "outputs": [
    {
     "data": {
      "text/plain": [
       "array([ 1,  2,  3,  4,  5,  6,  7,  8,  9, 10, 11, 12], dtype=int64)"
      ]
     },
     "execution_count": 11,
     "metadata": {},
     "output_type": "execute_result"
    }
   ],
   "source": [
    "df2.mes.unique()"
   ]
  },
  {
   "cell_type": "markdown",
   "id": "73faf563",
   "metadata": {},
   "source": [
    "**La data de origen tenía observaciones diarias. Por ejemplo, cada observación con mes \"1\" y año \"2013\" es un día de enero de 2013.** "
   ]
  },
  {
   "cell_type": "code",
   "execution_count": 23,
   "id": "2cd38003",
   "metadata": {},
   "outputs": [],
   "source": [
    "dfmov=pd.DataFrame(df2.groupby(['compania', 'tipo_de_plan', 'mes', 'año'])['numero_de_lineas'].sum())"
   ]
  },
  {
   "cell_type": "markdown",
   "id": "d5536e59",
   "metadata": {},
   "source": [
    "**Hay que agruparla para tener data correspondiente a un mes de un año**"
   ]
  },
  {
   "cell_type": "code",
   "execution_count": 24,
   "id": "d1f376bf",
   "metadata": {},
   "outputs": [
    {
     "data": {
      "text/html": [
       "<div>\n",
       "<style scoped>\n",
       "    .dataframe tbody tr th:only-of-type {\n",
       "        vertical-align: middle;\n",
       "    }\n",
       "\n",
       "    .dataframe tbody tr th {\n",
       "        vertical-align: top;\n",
       "    }\n",
       "\n",
       "    .dataframe thead th {\n",
       "        text-align: right;\n",
       "    }\n",
       "</style>\n",
       "<table border=\"1\" class=\"dataframe\">\n",
       "  <thead>\n",
       "    <tr style=\"text-align: right;\">\n",
       "      <th></th>\n",
       "      <th></th>\n",
       "      <th></th>\n",
       "      <th></th>\n",
       "      <th>numero_de_lineas</th>\n",
       "    </tr>\n",
       "    <tr>\n",
       "      <th>compania</th>\n",
       "      <th>tipo_de_plan</th>\n",
       "      <th>mes</th>\n",
       "      <th>año</th>\n",
       "      <th></th>\n",
       "    </tr>\n",
       "  </thead>\n",
       "  <tbody>\n",
       "    <tr>\n",
       "      <th rowspan=\"5\" valign=\"top\">Bitel</th>\n",
       "      <th rowspan=\"5\" valign=\"top\">control</th>\n",
       "      <th rowspan=\"5\" valign=\"top\">1</th>\n",
       "      <th>2015</th>\n",
       "      <td>79504</td>\n",
       "    </tr>\n",
       "    <tr>\n",
       "      <th>2016</th>\n",
       "      <td>166286</td>\n",
       "    </tr>\n",
       "    <tr>\n",
       "      <th>2017</th>\n",
       "      <td>259098</td>\n",
       "    </tr>\n",
       "    <tr>\n",
       "      <th>2018</th>\n",
       "      <td>631801</td>\n",
       "    </tr>\n",
       "    <tr>\n",
       "      <th>2019</th>\n",
       "      <td>1687759</td>\n",
       "    </tr>\n",
       "  </tbody>\n",
       "</table>\n",
       "</div>"
      ],
      "text/plain": [
       "                                numero_de_lineas\n",
       "compania tipo_de_plan mes año                   \n",
       "Bitel    control      1   2015             79504\n",
       "                          2016            166286\n",
       "                          2017            259098\n",
       "                          2018            631801\n",
       "                          2019           1687759"
      ]
     },
     "execution_count": 24,
     "metadata": {},
     "output_type": "execute_result"
    }
   ],
   "source": [
    "dfmov.head()"
   ]
  },
  {
   "cell_type": "code",
   "execution_count": 25,
   "id": "bdc00185",
   "metadata": {},
   "outputs": [],
   "source": [
    "## Para homogeneizar el dataframe y poder manipularlo\n",
    "dfmov.reset_index(inplace=True)"
   ]
  },
  {
   "cell_type": "code",
   "execution_count": 26,
   "id": "ebd91418",
   "metadata": {},
   "outputs": [
    {
     "data": {
      "text/html": [
       "<div>\n",
       "<style scoped>\n",
       "    .dataframe tbody tr th:only-of-type {\n",
       "        vertical-align: middle;\n",
       "    }\n",
       "\n",
       "    .dataframe tbody tr th {\n",
       "        vertical-align: top;\n",
       "    }\n",
       "\n",
       "    .dataframe thead th {\n",
       "        text-align: right;\n",
       "    }\n",
       "</style>\n",
       "<table border=\"1\" class=\"dataframe\">\n",
       "  <thead>\n",
       "    <tr style=\"text-align: right;\">\n",
       "      <th></th>\n",
       "      <th>compania</th>\n",
       "      <th>tipo_de_plan</th>\n",
       "      <th>mes</th>\n",
       "      <th>año</th>\n",
       "      <th>numero_de_lineas</th>\n",
       "    </tr>\n",
       "  </thead>\n",
       "  <tbody>\n",
       "    <tr>\n",
       "      <th>0</th>\n",
       "      <td>Bitel</td>\n",
       "      <td>control</td>\n",
       "      <td>1</td>\n",
       "      <td>2015</td>\n",
       "      <td>79504</td>\n",
       "    </tr>\n",
       "    <tr>\n",
       "      <th>1</th>\n",
       "      <td>Bitel</td>\n",
       "      <td>control</td>\n",
       "      <td>1</td>\n",
       "      <td>2016</td>\n",
       "      <td>166286</td>\n",
       "    </tr>\n",
       "    <tr>\n",
       "      <th>2</th>\n",
       "      <td>Bitel</td>\n",
       "      <td>control</td>\n",
       "      <td>1</td>\n",
       "      <td>2017</td>\n",
       "      <td>259098</td>\n",
       "    </tr>\n",
       "    <tr>\n",
       "      <th>3</th>\n",
       "      <td>Bitel</td>\n",
       "      <td>control</td>\n",
       "      <td>1</td>\n",
       "      <td>2018</td>\n",
       "      <td>631801</td>\n",
       "    </tr>\n",
       "    <tr>\n",
       "      <th>4</th>\n",
       "      <td>Bitel</td>\n",
       "      <td>control</td>\n",
       "      <td>1</td>\n",
       "      <td>2019</td>\n",
       "      <td>1687759</td>\n",
       "    </tr>\n",
       "  </tbody>\n",
       "</table>\n",
       "</div>"
      ],
      "text/plain": [
       "  compania tipo_de_plan  mes   año  numero_de_lineas\n",
       "0    Bitel      control    1  2015             79504\n",
       "1    Bitel      control    1  2016            166286\n",
       "2    Bitel      control    1  2017            259098\n",
       "3    Bitel      control    1  2018            631801\n",
       "4    Bitel      control    1  2019           1687759"
      ]
     },
     "execution_count": 26,
     "metadata": {},
     "output_type": "execute_result"
    }
   ],
   "source": [
    "dfmov.head()"
   ]
  },
  {
   "cell_type": "markdown",
   "id": "f71f7410",
   "metadata": {},
   "source": [
    "##### El número de líneas móviles activas por mes del año 2013"
   ]
  },
  {
   "cell_type": "code",
   "execution_count": 16,
   "id": "bd1cbd90",
   "metadata": {},
   "outputs": [
    {
     "data": {
      "text/html": [
       "<div>\n",
       "<style scoped>\n",
       "    .dataframe tbody tr th:only-of-type {\n",
       "        vertical-align: middle;\n",
       "    }\n",
       "\n",
       "    .dataframe tbody tr th {\n",
       "        vertical-align: top;\n",
       "    }\n",
       "\n",
       "    .dataframe thead th {\n",
       "        text-align: right;\n",
       "    }\n",
       "</style>\n",
       "<table border=\"1\" class=\"dataframe\">\n",
       "  <thead>\n",
       "    <tr style=\"text-align: right;\">\n",
       "      <th></th>\n",
       "      <th>compania</th>\n",
       "      <th>tipo_de_plan</th>\n",
       "      <th>mes</th>\n",
       "      <th>año</th>\n",
       "      <th>numero_de_lineas</th>\n",
       "    </tr>\n",
       "  </thead>\n",
       "  <tbody>\n",
       "    <tr>\n",
       "      <th>402</th>\n",
       "      <td>Claro</td>\n",
       "      <td>postpago</td>\n",
       "      <td>1</td>\n",
       "      <td>2013</td>\n",
       "      <td>2732347</td>\n",
       "    </tr>\n",
       "    <tr>\n",
       "      <th>412</th>\n",
       "      <td>Claro</td>\n",
       "      <td>postpago</td>\n",
       "      <td>2</td>\n",
       "      <td>2013</td>\n",
       "      <td>2793495</td>\n",
       "    </tr>\n",
       "    <tr>\n",
       "      <th>422</th>\n",
       "      <td>Claro</td>\n",
       "      <td>postpago</td>\n",
       "      <td>3</td>\n",
       "      <td>2013</td>\n",
       "      <td>2867476</td>\n",
       "    </tr>\n",
       "    <tr>\n",
       "      <th>432</th>\n",
       "      <td>Claro</td>\n",
       "      <td>postpago</td>\n",
       "      <td>4</td>\n",
       "      <td>2013</td>\n",
       "      <td>2942513</td>\n",
       "    </tr>\n",
       "    <tr>\n",
       "      <th>442</th>\n",
       "      <td>Claro</td>\n",
       "      <td>postpago</td>\n",
       "      <td>5</td>\n",
       "      <td>2013</td>\n",
       "      <td>3012616</td>\n",
       "    </tr>\n",
       "    <tr>\n",
       "      <th>452</th>\n",
       "      <td>Claro</td>\n",
       "      <td>postpago</td>\n",
       "      <td>6</td>\n",
       "      <td>2013</td>\n",
       "      <td>3075209</td>\n",
       "    </tr>\n",
       "    <tr>\n",
       "      <th>462</th>\n",
       "      <td>Claro</td>\n",
       "      <td>postpago</td>\n",
       "      <td>7</td>\n",
       "      <td>2013</td>\n",
       "      <td>3155551</td>\n",
       "    </tr>\n",
       "    <tr>\n",
       "      <th>471</th>\n",
       "      <td>Claro</td>\n",
       "      <td>postpago</td>\n",
       "      <td>8</td>\n",
       "      <td>2013</td>\n",
       "      <td>3204358</td>\n",
       "    </tr>\n",
       "    <tr>\n",
       "      <th>480</th>\n",
       "      <td>Claro</td>\n",
       "      <td>postpago</td>\n",
       "      <td>9</td>\n",
       "      <td>2013</td>\n",
       "      <td>3266080</td>\n",
       "    </tr>\n",
       "    <tr>\n",
       "      <th>489</th>\n",
       "      <td>Claro</td>\n",
       "      <td>postpago</td>\n",
       "      <td>10</td>\n",
       "      <td>2013</td>\n",
       "      <td>3318667</td>\n",
       "    </tr>\n",
       "    <tr>\n",
       "      <th>498</th>\n",
       "      <td>Claro</td>\n",
       "      <td>postpago</td>\n",
       "      <td>11</td>\n",
       "      <td>2013</td>\n",
       "      <td>3366647</td>\n",
       "    </tr>\n",
       "    <tr>\n",
       "      <th>507</th>\n",
       "      <td>Claro</td>\n",
       "      <td>postpago</td>\n",
       "      <td>12</td>\n",
       "      <td>2013</td>\n",
       "      <td>3453830</td>\n",
       "    </tr>\n",
       "  </tbody>\n",
       "</table>\n",
       "</div>"
      ],
      "text/plain": [
       "    compania tipo_de_plan  mes   año  numero_de_lineas\n",
       "402    Claro     postpago    1  2013           2732347\n",
       "412    Claro     postpago    2  2013           2793495\n",
       "422    Claro     postpago    3  2013           2867476\n",
       "432    Claro     postpago    4  2013           2942513\n",
       "442    Claro     postpago    5  2013           3012616\n",
       "452    Claro     postpago    6  2013           3075209\n",
       "462    Claro     postpago    7  2013           3155551\n",
       "471    Claro     postpago    8  2013           3204358\n",
       "480    Claro     postpago    9  2013           3266080\n",
       "489    Claro     postpago   10  2013           3318667\n",
       "498    Claro     postpago   11  2013           3366647\n",
       "507    Claro     postpago   12  2013           3453830"
      ]
     },
     "execution_count": 16,
     "metadata": {},
     "output_type": "execute_result"
    }
   ],
   "source": [
    "dfmov[(dfmov['compania']=='Claro') & (dfmov['tipo_de_plan']=='postpago') & (dfmov['año']==2013)]"
   ]
  },
  {
   "cell_type": "markdown",
   "id": "9cd9a54b",
   "metadata": {},
   "source": [
    "##### Ver la última observación del año (mes de diciembre)"
   ]
  },
  {
   "cell_type": "code",
   "execution_count": 17,
   "id": "f3cbd4bc",
   "metadata": {},
   "outputs": [
    {
     "data": {
      "text/html": [
       "<div>\n",
       "<style scoped>\n",
       "    .dataframe tbody tr th:only-of-type {\n",
       "        vertical-align: middle;\n",
       "    }\n",
       "\n",
       "    .dataframe tbody tr th {\n",
       "        vertical-align: top;\n",
       "    }\n",
       "\n",
       "    .dataframe thead th {\n",
       "        text-align: right;\n",
       "    }\n",
       "</style>\n",
       "<table border=\"1\" class=\"dataframe\">\n",
       "  <thead>\n",
       "    <tr style=\"text-align: right;\">\n",
       "      <th></th>\n",
       "      <th>compania</th>\n",
       "      <th>tipo_de_plan</th>\n",
       "      <th>mes</th>\n",
       "      <th>año</th>\n",
       "      <th>numero_de_lineas</th>\n",
       "    </tr>\n",
       "  </thead>\n",
       "  <tbody>\n",
       "    <tr>\n",
       "      <th>393</th>\n",
       "      <td>Claro</td>\n",
       "      <td>control</td>\n",
       "      <td>12</td>\n",
       "      <td>2013</td>\n",
       "      <td>7697</td>\n",
       "    </tr>\n",
       "    <tr>\n",
       "      <th>394</th>\n",
       "      <td>Claro</td>\n",
       "      <td>control</td>\n",
       "      <td>12</td>\n",
       "      <td>2014</td>\n",
       "      <td>5459</td>\n",
       "    </tr>\n",
       "    <tr>\n",
       "      <th>395</th>\n",
       "      <td>Claro</td>\n",
       "      <td>control</td>\n",
       "      <td>12</td>\n",
       "      <td>2015</td>\n",
       "      <td>3654</td>\n",
       "    </tr>\n",
       "    <tr>\n",
       "      <th>396</th>\n",
       "      <td>Claro</td>\n",
       "      <td>control</td>\n",
       "      <td>12</td>\n",
       "      <td>2016</td>\n",
       "      <td>2273</td>\n",
       "    </tr>\n",
       "    <tr>\n",
       "      <th>397</th>\n",
       "      <td>Claro</td>\n",
       "      <td>control</td>\n",
       "      <td>12</td>\n",
       "      <td>2017</td>\n",
       "      <td>1065</td>\n",
       "    </tr>\n",
       "    <tr>\n",
       "      <th>398</th>\n",
       "      <td>Claro</td>\n",
       "      <td>control</td>\n",
       "      <td>12</td>\n",
       "      <td>2018</td>\n",
       "      <td>3614026</td>\n",
       "    </tr>\n",
       "    <tr>\n",
       "      <th>399</th>\n",
       "      <td>Claro</td>\n",
       "      <td>control</td>\n",
       "      <td>12</td>\n",
       "      <td>2019</td>\n",
       "      <td>3957790</td>\n",
       "    </tr>\n",
       "    <tr>\n",
       "      <th>400</th>\n",
       "      <td>Claro</td>\n",
       "      <td>control</td>\n",
       "      <td>12</td>\n",
       "      <td>2020</td>\n",
       "      <td>4092928</td>\n",
       "    </tr>\n",
       "    <tr>\n",
       "      <th>401</th>\n",
       "      <td>Claro</td>\n",
       "      <td>control</td>\n",
       "      <td>12</td>\n",
       "      <td>2021</td>\n",
       "      <td>4848299</td>\n",
       "    </tr>\n",
       "  </tbody>\n",
       "</table>\n",
       "</div>"
      ],
      "text/plain": [
       "    compania tipo_de_plan  mes   año  numero_de_lineas\n",
       "393    Claro      control   12  2013              7697\n",
       "394    Claro      control   12  2014              5459\n",
       "395    Claro      control   12  2015              3654\n",
       "396    Claro      control   12  2016              2273\n",
       "397    Claro      control   12  2017              1065\n",
       "398    Claro      control   12  2018           3614026\n",
       "399    Claro      control   12  2019           3957790\n",
       "400    Claro      control   12  2020           4092928\n",
       "401    Claro      control   12  2021           4848299"
      ]
     },
     "execution_count": 17,
     "metadata": {},
     "output_type": "execute_result"
    }
   ],
   "source": [
    "dfmov[(dfmov['compania']=='Claro') & (dfmov['tipo_de_plan']=='control') & (dfmov['mes']==12)]"
   ]
  },
  {
   "cell_type": "code",
   "execution_count": 18,
   "id": "4a702e39",
   "metadata": {},
   "outputs": [
    {
     "data": {
      "text/html": [
       "<div>\n",
       "<style scoped>\n",
       "    .dataframe tbody tr th:only-of-type {\n",
       "        vertical-align: middle;\n",
       "    }\n",
       "\n",
       "    .dataframe tbody tr th {\n",
       "        vertical-align: top;\n",
       "    }\n",
       "\n",
       "    .dataframe thead th {\n",
       "        text-align: right;\n",
       "    }\n",
       "</style>\n",
       "<table border=\"1\" class=\"dataframe\">\n",
       "  <thead>\n",
       "    <tr style=\"text-align: right;\">\n",
       "      <th></th>\n",
       "      <th>compania</th>\n",
       "      <th>tipo_de_plan</th>\n",
       "      <th>mes</th>\n",
       "      <th>año</th>\n",
       "      <th>numero_de_lineas</th>\n",
       "    </tr>\n",
       "  </thead>\n",
       "  <tbody>\n",
       "    <tr>\n",
       "      <th>621</th>\n",
       "      <td>Claro</td>\n",
       "      <td>prepago</td>\n",
       "      <td>12</td>\n",
       "      <td>2013</td>\n",
       "      <td>8393654</td>\n",
       "    </tr>\n",
       "    <tr>\n",
       "      <th>622</th>\n",
       "      <td>Claro</td>\n",
       "      <td>prepago</td>\n",
       "      <td>12</td>\n",
       "      <td>2014</td>\n",
       "      <td>8586329</td>\n",
       "    </tr>\n",
       "    <tr>\n",
       "      <th>623</th>\n",
       "      <td>Claro</td>\n",
       "      <td>prepago</td>\n",
       "      <td>12</td>\n",
       "      <td>2015</td>\n",
       "      <td>8066225</td>\n",
       "    </tr>\n",
       "    <tr>\n",
       "      <th>624</th>\n",
       "      <td>Claro</td>\n",
       "      <td>prepago</td>\n",
       "      <td>12</td>\n",
       "      <td>2016</td>\n",
       "      <td>7975896</td>\n",
       "    </tr>\n",
       "    <tr>\n",
       "      <th>625</th>\n",
       "      <td>Claro</td>\n",
       "      <td>prepago</td>\n",
       "      <td>12</td>\n",
       "      <td>2017</td>\n",
       "      <td>8181415</td>\n",
       "    </tr>\n",
       "    <tr>\n",
       "      <th>626</th>\n",
       "      <td>Claro</td>\n",
       "      <td>prepago</td>\n",
       "      <td>12</td>\n",
       "      <td>2018</td>\n",
       "      <td>7935984</td>\n",
       "    </tr>\n",
       "    <tr>\n",
       "      <th>627</th>\n",
       "      <td>Claro</td>\n",
       "      <td>prepago</td>\n",
       "      <td>12</td>\n",
       "      <td>2019</td>\n",
       "      <td>7392870</td>\n",
       "    </tr>\n",
       "    <tr>\n",
       "      <th>628</th>\n",
       "      <td>Claro</td>\n",
       "      <td>prepago</td>\n",
       "      <td>12</td>\n",
       "      <td>2020</td>\n",
       "      <td>6653242</td>\n",
       "    </tr>\n",
       "    <tr>\n",
       "      <th>629</th>\n",
       "      <td>Claro</td>\n",
       "      <td>prepago</td>\n",
       "      <td>12</td>\n",
       "      <td>2021</td>\n",
       "      <td>6889503</td>\n",
       "    </tr>\n",
       "  </tbody>\n",
       "</table>\n",
       "</div>"
      ],
      "text/plain": [
       "    compania tipo_de_plan  mes   año  numero_de_lineas\n",
       "621    Claro      prepago   12  2013           8393654\n",
       "622    Claro      prepago   12  2014           8586329\n",
       "623    Claro      prepago   12  2015           8066225\n",
       "624    Claro      prepago   12  2016           7975896\n",
       "625    Claro      prepago   12  2017           8181415\n",
       "626    Claro      prepago   12  2018           7935984\n",
       "627    Claro      prepago   12  2019           7392870\n",
       "628    Claro      prepago   12  2020           6653242\n",
       "629    Claro      prepago   12  2021           6889503"
      ]
     },
     "execution_count": 18,
     "metadata": {},
     "output_type": "execute_result"
    }
   ],
   "source": [
    "dfmov[(dfmov['compania']=='Claro') & (dfmov['tipo_de_plan']=='prepago') & (dfmov['mes']==12)]"
   ]
  },
  {
   "cell_type": "code",
   "execution_count": 19,
   "id": "d481f7b5",
   "metadata": {},
   "outputs": [
    {
     "data": {
      "text/html": [
       "<div>\n",
       "<style scoped>\n",
       "    .dataframe tbody tr th:only-of-type {\n",
       "        vertical-align: middle;\n",
       "    }\n",
       "\n",
       "    .dataframe tbody tr th {\n",
       "        vertical-align: top;\n",
       "    }\n",
       "\n",
       "    .dataframe thead th {\n",
       "        text-align: right;\n",
       "    }\n",
       "</style>\n",
       "<table border=\"1\" class=\"dataframe\">\n",
       "  <thead>\n",
       "    <tr style=\"text-align: right;\">\n",
       "      <th></th>\n",
       "      <th>compania</th>\n",
       "      <th>tipo_de_plan</th>\n",
       "      <th>mes</th>\n",
       "      <th>año</th>\n",
       "      <th>numero_de_lineas</th>\n",
       "    </tr>\n",
       "  </thead>\n",
       "  <tbody>\n",
       "    <tr>\n",
       "      <th>507</th>\n",
       "      <td>Claro</td>\n",
       "      <td>postpago</td>\n",
       "      <td>12</td>\n",
       "      <td>2013</td>\n",
       "      <td>3453830</td>\n",
       "    </tr>\n",
       "    <tr>\n",
       "      <th>508</th>\n",
       "      <td>Claro</td>\n",
       "      <td>postpago</td>\n",
       "      <td>12</td>\n",
       "      <td>2014</td>\n",
       "      <td>3906462</td>\n",
       "    </tr>\n",
       "    <tr>\n",
       "      <th>509</th>\n",
       "      <td>Claro</td>\n",
       "      <td>postpago</td>\n",
       "      <td>12</td>\n",
       "      <td>2015</td>\n",
       "      <td>4014126</td>\n",
       "    </tr>\n",
       "    <tr>\n",
       "      <th>510</th>\n",
       "      <td>Claro</td>\n",
       "      <td>postpago</td>\n",
       "      <td>12</td>\n",
       "      <td>2016</td>\n",
       "      <td>4334589</td>\n",
       "    </tr>\n",
       "    <tr>\n",
       "      <th>511</th>\n",
       "      <td>Claro</td>\n",
       "      <td>postpago</td>\n",
       "      <td>12</td>\n",
       "      <td>2017</td>\n",
       "      <td>4324071</td>\n",
       "    </tr>\n",
       "    <tr>\n",
       "      <th>512</th>\n",
       "      <td>Claro</td>\n",
       "      <td>postpago</td>\n",
       "      <td>12</td>\n",
       "      <td>2018</td>\n",
       "      <td>659463</td>\n",
       "    </tr>\n",
       "    <tr>\n",
       "      <th>513</th>\n",
       "      <td>Claro</td>\n",
       "      <td>postpago</td>\n",
       "      <td>12</td>\n",
       "      <td>2019</td>\n",
       "      <td>406655</td>\n",
       "    </tr>\n",
       "    <tr>\n",
       "      <th>514</th>\n",
       "      <td>Claro</td>\n",
       "      <td>postpago</td>\n",
       "      <td>12</td>\n",
       "      <td>2020</td>\n",
       "      <td>422385</td>\n",
       "    </tr>\n",
       "    <tr>\n",
       "      <th>515</th>\n",
       "      <td>Claro</td>\n",
       "      <td>postpago</td>\n",
       "      <td>12</td>\n",
       "      <td>2021</td>\n",
       "      <td>490408</td>\n",
       "    </tr>\n",
       "  </tbody>\n",
       "</table>\n",
       "</div>"
      ],
      "text/plain": [
       "    compania tipo_de_plan  mes   año  numero_de_lineas\n",
       "507    Claro     postpago   12  2013           3453830\n",
       "508    Claro     postpago   12  2014           3906462\n",
       "509    Claro     postpago   12  2015           4014126\n",
       "510    Claro     postpago   12  2016           4334589\n",
       "511    Claro     postpago   12  2017           4324071\n",
       "512    Claro     postpago   12  2018            659463\n",
       "513    Claro     postpago   12  2019            406655\n",
       "514    Claro     postpago   12  2020            422385\n",
       "515    Claro     postpago   12  2021            490408"
      ]
     },
     "execution_count": 19,
     "metadata": {},
     "output_type": "execute_result"
    }
   ],
   "source": [
    "dfmov[(dfmov['compania']=='Claro') & (dfmov['tipo_de_plan']=='postpago') & (dfmov['mes']==12)]"
   ]
  },
  {
   "cell_type": "code",
   "execution_count": 27,
   "id": "cd3dc416",
   "metadata": {},
   "outputs": [],
   "source": [
    "## La información mensual.Tienen que quedarse sólo con el mes 12 para que puedan ver la foto del año. \n",
    "dffinal=dfmov[dfmov['mes']==12]"
   ]
  },
  {
   "cell_type": "code",
   "execution_count": 28,
   "id": "d9018e73",
   "metadata": {},
   "outputs": [
    {
     "data": {
      "text/html": [
       "<div>\n",
       "<style scoped>\n",
       "    .dataframe tbody tr th:only-of-type {\n",
       "        vertical-align: middle;\n",
       "    }\n",
       "\n",
       "    .dataframe tbody tr th {\n",
       "        vertical-align: top;\n",
       "    }\n",
       "\n",
       "    .dataframe thead th {\n",
       "        text-align: right;\n",
       "    }\n",
       "</style>\n",
       "<table border=\"1\" class=\"dataframe\">\n",
       "  <thead>\n",
       "    <tr style=\"text-align: right;\">\n",
       "      <th></th>\n",
       "      <th>compania</th>\n",
       "      <th>tipo_de_plan</th>\n",
       "      <th>mes</th>\n",
       "      <th>año</th>\n",
       "      <th>numero_de_lineas</th>\n",
       "    </tr>\n",
       "  </thead>\n",
       "  <tbody>\n",
       "    <tr>\n",
       "      <th>88</th>\n",
       "      <td>Bitel</td>\n",
       "      <td>control</td>\n",
       "      <td>12</td>\n",
       "      <td>2014</td>\n",
       "      <td>154994</td>\n",
       "    </tr>\n",
       "    <tr>\n",
       "      <th>89</th>\n",
       "      <td>Bitel</td>\n",
       "      <td>control</td>\n",
       "      <td>12</td>\n",
       "      <td>2015</td>\n",
       "      <td>142000</td>\n",
       "    </tr>\n",
       "    <tr>\n",
       "      <th>90</th>\n",
       "      <td>Bitel</td>\n",
       "      <td>control</td>\n",
       "      <td>12</td>\n",
       "      <td>2016</td>\n",
       "      <td>230936</td>\n",
       "    </tr>\n",
       "    <tr>\n",
       "      <th>91</th>\n",
       "      <td>Bitel</td>\n",
       "      <td>control</td>\n",
       "      <td>12</td>\n",
       "      <td>2017</td>\n",
       "      <td>580795</td>\n",
       "    </tr>\n",
       "    <tr>\n",
       "      <th>92</th>\n",
       "      <td>Bitel</td>\n",
       "      <td>control</td>\n",
       "      <td>12</td>\n",
       "      <td>2018</td>\n",
       "      <td>1645175</td>\n",
       "    </tr>\n",
       "  </tbody>\n",
       "</table>\n",
       "</div>"
      ],
      "text/plain": [
       "   compania tipo_de_plan  mes   año  numero_de_lineas\n",
       "88    Bitel      control   12  2014            154994\n",
       "89    Bitel      control   12  2015            142000\n",
       "90    Bitel      control   12  2016            230936\n",
       "91    Bitel      control   12  2017            580795\n",
       "92    Bitel      control   12  2018           1645175"
      ]
     },
     "execution_count": 28,
     "metadata": {},
     "output_type": "execute_result"
    }
   ],
   "source": [
    "dffinal.head()"
   ]
  },
  {
   "cell_type": "code",
   "execution_count": 29,
   "id": "0ad43398",
   "metadata": {},
   "outputs": [
    {
     "name": "stdout",
     "output_type": "stream",
     "text": [
      "<class 'pandas.core.frame.DataFrame'>\n",
      "Index: 111 entries, 88 to 1385\n",
      "Data columns (total 5 columns):\n",
      " #   Column            Non-Null Count  Dtype \n",
      "---  ------            --------------  ----- \n",
      " 0   compania          111 non-null    object\n",
      " 1   tipo_de_plan      111 non-null    object\n",
      " 2   mes               111 non-null    int64 \n",
      " 3   año               111 non-null    int64 \n",
      " 4   numero_de_lineas  111 non-null    int64 \n",
      "dtypes: int64(3), object(2)\n",
      "memory usage: 5.2+ KB\n"
     ]
    }
   ],
   "source": [
    "dffinal.info()"
   ]
  },
  {
   "cell_type": "code",
   "execution_count": 30,
   "id": "c9fd6d58",
   "metadata": {},
   "outputs": [
    {
     "data": {
      "text/plain": [
       "array(['control', 'postpago', 'prepago'], dtype=object)"
      ]
     },
     "execution_count": 30,
     "metadata": {},
     "output_type": "execute_result"
    }
   ],
   "source": [
    "dffinal.tipo_de_plan.unique()"
   ]
  },
  {
   "cell_type": "code",
   "execution_count": 31,
   "id": "fedcecc2",
   "metadata": {},
   "outputs": [
    {
     "data": {
      "text/plain": [
       "array(['Bitel', 'Claro', 'Entel', 'Movistar', 'Others'], dtype=object)"
      ]
     },
     "execution_count": 31,
     "metadata": {},
     "output_type": "execute_result"
    }
   ],
   "source": [
    "dffinal.compania.unique()"
   ]
  },
  {
   "cell_type": "markdown",
   "id": "f87aa7fd",
   "metadata": {},
   "source": [
    "**Reemplazar \"others\" por otros**"
   ]
  },
  {
   "cell_type": "code",
   "execution_count": 32,
   "id": "b73ad406",
   "metadata": {},
   "outputs": [
    {
     "data": {
      "text/plain": [
       "array([2014, 2015, 2016, 2017, 2018, 2019, 2020, 2021, 2013], dtype=int64)"
      ]
     },
     "execution_count": 32,
     "metadata": {},
     "output_type": "execute_result"
    }
   ],
   "source": [
    "dffinal.año.unique()"
   ]
  },
  {
   "cell_type": "markdown",
   "id": "c22c5c31",
   "metadata": {},
   "source": [
    "## Rúbrica del examen parcial "
   ]
  },
  {
   "cell_type": "markdown",
   "id": "902b1d29",
   "metadata": {},
   "source": [
    "- Día del examen: Miercoles 2 de octubre. 8am-11pm. Sala D12\n",
    "- Grupos de dos alumnos. \n",
    "- Presentar oralmente un documento en PowerPoint (15 minutos) el día del examen parcial y entregar un Jupyter Notebook y el Powerpoint al correo electrónico giancarlo.marchesi@udep.edu.pe hasta las 8am del día miércoles 2 de octubre. \n",
    "- El horario asignado a cada grupo estará disponible en Canvas.\n",
    "- El examen utiliza estos dos datasets. Estarán disponibles en el Módulo del examen en Canvas. \n",
    "- El examen consta de 4 secciones. Cada sección vale 25 puntos. \n",
    "- Las secciones 1 y 2 tienen 5 preguntas individuales. Cada pregunta individual vale 5 puntos. \n",
    "- Cada pregunta deberá contar con un gráfico y tener una breve explicación de dos líneas para describir la conclusión del análisis. \n",
    "- Dentro de estos 5 puntos se evalúa obtener la respuesta correcta (3 puntos), la claridad del gráfico (2 puntos). \n",
    "- Las secciones 3 y 4 se refieren a la calidad de la presentacion oral y la atención al detalle del trabajo "
   ]
  },
  {
   "cell_type": "markdown",
   "id": "03e6cb3f",
   "metadata": {},
   "source": [
    "### Objetivo: Contar la historia del mercado de móviles en Perú. "
   ]
  },
  {
   "cell_type": "markdown",
   "id": "c3446405",
   "metadata": {},
   "source": [
    "La empresa consultora UdeP Analytical Solutions  ha sido contratada por Claro para analizar la evolución del mercado de telecomunicaciones peruano desde 2013, cuando dos fuertes competidores, Entel y Bitel, ingresaron al mercado.\n",
    "\n",
    "La consultora ha decidido comenzar desde lo más alto, analizando la dinámica del mercado de telecomunicaciones por cuota de mercado, líneas de producto y segmentos. \n",
    "\n",
    "El objetivo del encargo es dar a Claro una visión tanto del mercado como de su posición particular en el mismo. Claro califica al consultor por la veracidad de la respuesta, por la capacidad de comunicación y el formato de la presentación. "
   ]
  },
  {
   "cell_type": "markdown",
   "id": "db17f0bc",
   "metadata": {},
   "source": [
    "### Ingresos del mercado total (25 puntos)"
   ]
  },
  {
   "cell_type": "markdown",
   "id": "19906e03",
   "metadata": {},
   "source": [
    "1. ¿Cuánto factura anualmente el mercado de telecomunicaciones en el Perú (todos las líneas de negocio) y ¿Cuál es la tasa de crecimiento anualizada del mercado del 2013 al 2021? (realizar un gráfico de linea de la evolución de la tasa de crecimiento del mercado)\n",
    "2. Replicar el mismo gráfico solo para Claro (solo para claro hacer un linea de evolutiva)\n",
    "3. ¿Cual es el % de ingresos del mercado de los 6 competidores tanto en 2013 como en 2021? (stacked bars o barras apiladas o bien cuadrados proporcionales)\n",
    "4. ¿Cuánto es el % de la facturación para cada linea de producto para el mercado total? ¿Cómo evoluciona entre 2013 y 2021? (barras  lo largo del tiempo pie chart)\n",
    "5. ¿Cuánto es el % de la facturación para cada linea de producto para Claro? ¿Cómo evoluciona entre 2013 y 2021? (tambien barras, pie chart)"
   ]
  },
  {
   "cell_type": "markdown",
   "id": "9f8fb63f",
   "metadata": {},
   "source": [
    "### Mercado móvil (25 puntos)"
   ]
  },
  {
   "cell_type": "markdown",
   "id": "9a94af27",
   "metadata": {},
   "source": [
    "1. Utilizando la data de la pregunta anterior, ¿qué porcentaje del mercado por ingresos, del producto móviles, tenía cada empresa en el 2013? ¿Cuánto tienen en el 2021? (barras)\n",
    "2. Utilizando el segundo dataset, cuál es la tasa de crecimiento del mercado de líneas móviles por todo tipo de contrato entre 2013-2021. (linea de crecimiento)\n",
    "3. ¿Cuál es el porcentaje de líneas activas por empresa en 2021? Compararlo con el 2013. (pie chart o joint bars)\n",
    "4. Si dividimos los ingresos anuales por el número de líneas para cada empresa, tenemos el ingreso promedio por línea.  ¿Qué conclusiones podemos sacar comparando el 2013 con el 2021 por cada empresa? (barras horizontales)\n",
    "5. ¿Cuál es el porcentaje de mercado de líneas por cada empresa por tipo de contrato? Esta pregunta se vería bien bien respondida con un subplot de 1 fila y tres columnas, utilizando `lineplot`. Cada línea es una empresa. Cada columna es un tipo de contrato. (3 graficos horizontales en formato lines)"
   ]
  },
  {
   "cell_type": "markdown",
   "id": "c1ebc138",
   "metadata": {},
   "source": [
    "### Conclusiones del análisis (25 puntos)"
   ]
  },
  {
   "cell_type": "markdown",
   "id": "06109849",
   "metadata": {},
   "source": [
    "Escriban 5 bullets con las principales conclusiones de su análisis. Responder las siguientes preguntas. \n",
    "- ¿Cuál es el principal negocio de Claro? \n",
    "- ¿Cuáles es el tipo de plan que más conviene vender a Claro? \n",
    "- ¿Cómo describirías el segmento de la clientela de Claro? -¿Cómo definirías su ventaja competitiva?\n",
    "- ¿Cómo se ha defendido Claro frente al ingreso de los competidores Bitel y Entel? ¿Lo hizo mejor que Movistar?\n",
    "- ¿Dónde debería enfocar Claro sus esfuerzos en un futuro? "
   ]
  },
  {
   "cell_type": "markdown",
   "id": "33921ae3",
   "metadata": {},
   "source": [
    "### Claridad en la presentación (25 puntos)"
   ]
  },
  {
   "cell_type": "markdown",
   "id": "3c28bd89",
   "metadata": {},
   "source": [
    "- Traer la presentación en un usb en formato PPT o PDF. Instalarla en un minuto y estar listos para comenzar (5 puntos) \n",
    "- Tomar 15 minutos en total. 1 minuto por pregunta individual. 3 minutos para las conclusiones. 2 minutos para preguntas del profesor (10 puntos)\n",
    "- Poder comunicar cada slide de la presentación y conclusiones con claridad. REvisar que los gráficos respondan a las preguntas específicas. (10 puntos)"
   ]
  },
  {
   "cell_type": "code",
   "execution_count": null,
   "id": "1f9a2b7c",
   "metadata": {},
   "outputs": [],
   "source": []
  }
 ],
 "metadata": {
  "kernelspec": {
   "display_name": "Python 3 (ipykernel)",
   "language": "python",
   "name": "python3"
  },
  "language_info": {
   "codemirror_mode": {
    "name": "ipython",
    "version": 3
   },
   "file_extension": ".py",
   "mimetype": "text/x-python",
   "name": "python",
   "nbconvert_exporter": "python",
   "pygments_lexer": "ipython3",
   "version": "3.11.3"
  },
  "toc": {
   "base_numbering": 1,
   "nav_menu": {},
   "number_sections": true,
   "sideBar": true,
   "skip_h1_title": true,
   "title_cell": "Table of Contents",
   "title_sidebar": "Contents",
   "toc_cell": false,
   "toc_position": {},
   "toc_section_display": true,
   "toc_window_display": true
  },
  "varInspector": {
   "cols": {
    "lenName": 16,
    "lenType": 16,
    "lenVar": 40
   },
   "kernels_config": {
    "python": {
     "delete_cmd_postfix": "",
     "delete_cmd_prefix": "del ",
     "library": "var_list.py",
     "varRefreshCmd": "print(var_dic_list())"
    },
    "r": {
     "delete_cmd_postfix": ") ",
     "delete_cmd_prefix": "rm(",
     "library": "var_list.r",
     "varRefreshCmd": "cat(var_dic_list()) "
    }
   },
   "types_to_exclude": [
    "module",
    "function",
    "builtin_function_or_method",
    "instance",
    "_Feature"
   ],
   "window_display": false
  }
 },
 "nbformat": 4,
 "nbformat_minor": 5
}
